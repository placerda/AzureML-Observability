{
 "cells": [
  {
   "cell_type": "markdown",
   "metadata": {},
   "source": [
    "### Get Azure Machine Learning Workspace\n",
    "\n",
    "Workspace is used to retreive credentials and secrets in Key Vault to connect to Azure Data Explorer."
   ]
  },
  {
   "cell_type": "code",
   "execution_count": null,
   "metadata": {},
   "outputs": [],
   "source": [
    "from obs.drift.drift_analysis_kusto import Drift_Analysis_User\n",
    "from azureml.core import Workspace\n",
    "from obs.drift import launch_dashboard, execute\n",
    "\n",
    "ws = Workspace.from_config()\n",
    "drift_analysis = Drift_Analysis_User(ws)"
   ]
  },
  {
   "cell_type": "markdown",
   "metadata": {},
   "source": [
    "### Option 1: Local Dashboard with Dash\n",
    "\n",
    "Run cell below and copy the link into browser to access the dashboard. Once in the dashboard, interact with the widgets to create visualizations from avaiable data. Use ```irisdata``` created in part 0 as a sample table if needed. "
   ]
  },
  {
   "cell_type": "code",
   "execution_count": null,
   "metadata": {},
   "outputs": [],
   "source": [
    "launch_dashboard(drift_analysis, port_num=8052)\n",
    "#change port number from the default 8050 in case you run multiple Dash applications"
   ]
  },
  {
   "cell_type": "markdown",
   "metadata": {},
   "source": [
    "### Option 2: Launch drift detection job and use  Dashboard to Azure Data Explorer to view result\n",
    "\n"
   ]
  },
  {
   "cell_type": "markdown",
   "metadata": {},
   "source": [
    "1. Launch data detection job which is an Azure ML job to compute drift "
   ]
  },
  {
   "cell_type": "code",
   "execution_count": null,
   "metadata": {},
   "outputs": [],
   "source": [
    "from obs.drift.drift_analysis_scheduler import execute\n",
    "from datetime import datetime\n",
    "from azure.ai.ml.constants import TimeZone\n",
    "from dateutil import tz\n",
    "\n",
    "from azure.ai.ml.entities import (\n",
    "    CronSchedule,\n",
    "    ScheduleStatus,\n",
    ")\n",
    "\n",
    "subscription_id= \"[YOUR_SUBSCRIPTION]\"\n",
    "resource_group = \"[YOUR_RESOURCE_GROUP]\"\n",
    "workspace = \"[YOUR_WORKSPACE]\"\n",
    "compute_name = \"cpu-cluster\"\n",
    "base_table_name = \"IRIS_DATA_NEW\"\n",
    "target_table_name = base_table_name\n",
    "base_dt_from = \"07/19/2022\"\n",
    "base_dt_to = \"09/30/2022\"\n",
    "target_dt_from = \"10/01/2022\" #initial start date for target dataset\n",
    "target_dt_to =\"12/15/2022\" #initial endate date for target dataset\n",
    "\n",
    "cron_schedule = CronSchedule(\n",
    "    expression=\"*/10 * * * *\", #provide a cron express to schedule the recurring execution of drift detection job\n",
    "    time_zone=TimeZone.UTC,\n",
    "    status=ScheduleStatus.ENABLED\n",
    ")\n",
    "\n",
    "target_dt_shift_step_size= \"W\" \n",
    "#if this is a scheduled run (target_dt_shift_step_size is provided and cron schedule is provided), \n",
    "#the job will take last target_dt_to from result table, use it as new target_dt_from add target_dt_shift_step_size to drive last target_dt_to\n",
    "\n",
    "ml_client, job_name = execute(subscription_id=subscription_id,resource_group=resource_group,workspace=workspace, compute_name =compute_name, \n",
    "base_table_name =base_table_name,target_table_name =target_table_name, base_dt_from =base_dt_from, base_dt_to= base_dt_to,target_dt_from=target_dt_from, \n",
    "target_dt_to=target_dt_to, bin=\"7d\", limit=100000, concurrent_run=False, drift_threshold =0.4,target_dt_shift_step_size=target_dt_shift_step_size,\n",
    "job_cron_schedule=cron_schedule, drift_result_table=\"data_drift_result\")\n",
    "#remove job_cron_schedule =cron_schedule if you need to test before scheduling the job\n",
    "#If you need to provide your own data drift logic, please supply the module using user_defined_module_file=\"drift_job/drift_analysis_user.py\", user_defined_conda_file=\"drift_job/conda.yml\", \n",
    "# drift_analysis_job_file=\"drift_job/drift_analysis_aml_job.py\",\n",
    "#check the example of user defined modules in aml-obs-client/obs/test/drift_job\n"
   ]
  },
  {
   "cell_type": "markdown",
   "metadata": {},
   "source": [
    " 2.Go to Azure Data Explorer Dashboards and import the quick_start/ADX_dashboards/databoard_drift_detection.json file to create a dashboard.\n",
    "\n",
    "Review the instructions on how to import the dashboard [here.](https://docs.microsoft.com/en-us/azure/data-explorer/azure-data-explorer-dashboards#to-create-new-dashboard-from-a-file)\n",
    "\n",
    "Default parameters may need to updated to ensure proper connection."
   ]
  }
 ],
 "metadata": {
  "kernelspec": {
   "display_name": "obs",
   "language": "python",
   "name": "python3"
  },
  "language_info": {
   "codemirror_mode": {
    "name": "ipython",
    "version": 3
   },
   "file_extension": ".py",
   "mimetype": "text/x-python",
   "name": "python",
   "nbconvert_exporter": "python",
   "pygments_lexer": "ipython3",
   "version": "3.9.15 (main, Nov 24 2022, 14:31:59) \n[GCC 11.2.0]"
  },
  "vscode": {
   "interpreter": {
    "hash": "596be2406a773cd9b2970292cbf89616bbe657aa5a20541adf3f014743c4b1a6"
   }
  }
 },
 "nbformat": 4,
 "nbformat_minor": 2
}
